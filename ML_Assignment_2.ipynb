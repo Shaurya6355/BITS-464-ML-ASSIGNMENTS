{
  "nbformat": 4,
  "nbformat_minor": 0,
  "metadata": {
    "colab": {
      "provenance": [],
      "authorship_tag": "ABX9TyPF3qTaWqML9OHhToPVtowy",
      "include_colab_link": true
    },
    "kernelspec": {
      "name": "python3",
      "display_name": "Python 3"
    },
    "language_info": {
      "name": "python"
    }
  },
  "cells": [
    {
      "cell_type": "markdown",
      "metadata": {
        "id": "view-in-github",
        "colab_type": "text"
      },
      "source": [
        "<a href=\"https://colab.research.google.com/github/Shaurya6355/BITS-464-ML-ASSIGNMENTS/blob/main/ML_Assignment_2.ipynb\" target=\"_parent\"><img src=\"https://colab.research.google.com/assets/colab-badge.svg\" alt=\"Open In Colab\"/></a>"
      ]
    },
    {
      "cell_type": "code",
      "execution_count": 39,
      "metadata": {
        "id": "FZlXEe1IXISP"
      },
      "outputs": [],
      "source": [
        "import pandas as pd\n",
        "import numpy as np\n",
        "from math import sqrt\n",
        "import numpy as np\n",
        "from sklearn.model_selection import KFold\n",
        "from statistics import mean \n",
        "import matplotlib.pyplot as plt\n",
        "from sklearn.metrics import accuracy_score\n",
        "from sklearn.metrics import precision_score\n",
        "from sklearn.metrics import recall_score\n",
        "from sklearn.metrics import f1_score"
      ]
    },
    {
      "cell_type": "markdown",
      "source": [
        "# Q1"
      ],
      "metadata": {
        "id": "m3WYlpo5XddL"
      }
    },
    {
      "cell_type": "code",
      "source": [],
      "metadata": {
        "id": "A9zyqkADXftl"
      },
      "execution_count": null,
      "outputs": []
    },
    {
      "cell_type": "markdown",
      "source": [
        "# Q2"
      ],
      "metadata": {
        "id": "WsDv_B7pXgma"
      }
    },
    {
      "cell_type": "code",
      "source": [
        "from sklearn import datasets\n"
      ],
      "metadata": {
        "id": "n6tQ7LS9Xiut"
      },
      "execution_count": 2,
      "outputs": []
    },
    {
      "cell_type": "code",
      "source": [
        "iris = datasets.load_iris()"
      ],
      "metadata": {
        "id": "aiSLdTt7Xpt8"
      },
      "execution_count": 3,
      "outputs": []
    },
    {
      "cell_type": "code",
      "source": [
        "type(iris)"
      ],
      "metadata": {
        "colab": {
          "base_uri": "https://localhost:8080/"
        },
        "id": "riJGsR-rZJUM",
        "outputId": "e670f4d0-80e5-44fd-fe06-ab4a7ea2cda2"
      },
      "execution_count": 4,
      "outputs": [
        {
          "output_type": "execute_result",
          "data": {
            "text/plain": [
              "sklearn.utils.Bunch"
            ]
          },
          "metadata": {},
          "execution_count": 4
        }
      ]
    },
    {
      "cell_type": "code",
      "source": [
        "x=iris.data[:,:]\n",
        "y=iris.target"
      ],
      "metadata": {
        "id": "6fGPq6pFeDKc"
      },
      "execution_count": 5,
      "outputs": []
    },
    {
      "cell_type": "code",
      "source": [
        "#Features and attributes in iris dataset\n",
        "print(iris.feature_names)\n"
      ],
      "metadata": {
        "colab": {
          "base_uri": "https://localhost:8080/"
        },
        "id": "FwYJkjxuZ2YN",
        "outputId": "b99c2a1e-f64b-41a9-ac47-de8a09400431"
      },
      "execution_count": 6,
      "outputs": [
        {
          "output_type": "stream",
          "name": "stdout",
          "text": [
            "['sepal length (cm)', 'sepal width (cm)', 'petal length (cm)', 'petal width (cm)']\n"
          ]
        }
      ]
    },
    {
      "cell_type": "code",
      "source": [
        "# Total number of classes=3\n",
        "# 0-sentosa,1-versicolor,2-virginica\n",
        "classes=np.array(iris.target)\n",
        "classes=np.unique(classes)\n",
        "\n",
        "print(classes)\n",
        "print(iris.target_names)"
      ],
      "metadata": {
        "colab": {
          "base_uri": "https://localhost:8080/"
        },
        "id": "_ykRZxHBAtVr",
        "outputId": "6b5697a5-1f30-4acf-b620-b2b390aa2543"
      },
      "execution_count": 7,
      "outputs": [
        {
          "output_type": "stream",
          "name": "stdout",
          "text": [
            "[0 1 2]\n",
            "['setosa' 'versicolor' 'virginica']\n"
          ]
        }
      ]
    },
    {
      "cell_type": "code",
      "source": [
        "c = np.c_[x, y]\n",
        "c"
      ],
      "metadata": {
        "id": "nhtJw4jkZ9RQ"
      },
      "execution_count": null,
      "outputs": []
    },
    {
      "cell_type": "code",
      "source": [
        "# creating a list of column names\n",
        "column_values = ['sepal length (cm)', 'sepal width (cm)', 'petal length (cm)', 'petal width (cm)','Class']\n",
        "  \n",
        "# creating the dataframe\n",
        "df = pd.DataFrame(data = c,columns = column_values)"
      ],
      "metadata": {
        "id": "EXAR97C-eNd_"
      },
      "execution_count": 12,
      "outputs": []
    },
    {
      "cell_type": "code",
      "source": [
        "df.head()"
      ],
      "metadata": {
        "colab": {
          "base_uri": "https://localhost:8080/",
          "height": 206
        },
        "id": "EmShcwyqepn5",
        "outputId": "78ec6731-75c9-4c6a-8499-6b97ecbc6421"
      },
      "execution_count": 13,
      "outputs": [
        {
          "output_type": "execute_result",
          "data": {
            "text/plain": [
              "   sepal length (cm)  sepal width (cm)  petal length (cm)  petal width (cm)  \\\n",
              "0                5.1               3.5                1.4               0.2   \n",
              "1                4.9               3.0                1.4               0.2   \n",
              "2                4.7               3.2                1.3               0.2   \n",
              "3                4.6               3.1                1.5               0.2   \n",
              "4                5.0               3.6                1.4               0.2   \n",
              "\n",
              "   Class  \n",
              "0    0.0  \n",
              "1    0.0  \n",
              "2    0.0  \n",
              "3    0.0  \n",
              "4    0.0  "
            ],
            "text/html": [
              "\n",
              "  <div id=\"df-12df90e6-87a7-419f-ba26-45fa87ea39da\">\n",
              "    <div class=\"colab-df-container\">\n",
              "      <div>\n",
              "<style scoped>\n",
              "    .dataframe tbody tr th:only-of-type {\n",
              "        vertical-align: middle;\n",
              "    }\n",
              "\n",
              "    .dataframe tbody tr th {\n",
              "        vertical-align: top;\n",
              "    }\n",
              "\n",
              "    .dataframe thead th {\n",
              "        text-align: right;\n",
              "    }\n",
              "</style>\n",
              "<table border=\"1\" class=\"dataframe\">\n",
              "  <thead>\n",
              "    <tr style=\"text-align: right;\">\n",
              "      <th></th>\n",
              "      <th>sepal length (cm)</th>\n",
              "      <th>sepal width (cm)</th>\n",
              "      <th>petal length (cm)</th>\n",
              "      <th>petal width (cm)</th>\n",
              "      <th>Class</th>\n",
              "    </tr>\n",
              "  </thead>\n",
              "  <tbody>\n",
              "    <tr>\n",
              "      <th>0</th>\n",
              "      <td>5.1</td>\n",
              "      <td>3.5</td>\n",
              "      <td>1.4</td>\n",
              "      <td>0.2</td>\n",
              "      <td>0.0</td>\n",
              "    </tr>\n",
              "    <tr>\n",
              "      <th>1</th>\n",
              "      <td>4.9</td>\n",
              "      <td>3.0</td>\n",
              "      <td>1.4</td>\n",
              "      <td>0.2</td>\n",
              "      <td>0.0</td>\n",
              "    </tr>\n",
              "    <tr>\n",
              "      <th>2</th>\n",
              "      <td>4.7</td>\n",
              "      <td>3.2</td>\n",
              "      <td>1.3</td>\n",
              "      <td>0.2</td>\n",
              "      <td>0.0</td>\n",
              "    </tr>\n",
              "    <tr>\n",
              "      <th>3</th>\n",
              "      <td>4.6</td>\n",
              "      <td>3.1</td>\n",
              "      <td>1.5</td>\n",
              "      <td>0.2</td>\n",
              "      <td>0.0</td>\n",
              "    </tr>\n",
              "    <tr>\n",
              "      <th>4</th>\n",
              "      <td>5.0</td>\n",
              "      <td>3.6</td>\n",
              "      <td>1.4</td>\n",
              "      <td>0.2</td>\n",
              "      <td>0.0</td>\n",
              "    </tr>\n",
              "  </tbody>\n",
              "</table>\n",
              "</div>\n",
              "      <button class=\"colab-df-convert\" onclick=\"convertToInteractive('df-12df90e6-87a7-419f-ba26-45fa87ea39da')\"\n",
              "              title=\"Convert this dataframe to an interactive table.\"\n",
              "              style=\"display:none;\">\n",
              "        \n",
              "  <svg xmlns=\"http://www.w3.org/2000/svg\" height=\"24px\"viewBox=\"0 0 24 24\"\n",
              "       width=\"24px\">\n",
              "    <path d=\"M0 0h24v24H0V0z\" fill=\"none\"/>\n",
              "    <path d=\"M18.56 5.44l.94 2.06.94-2.06 2.06-.94-2.06-.94-.94-2.06-.94 2.06-2.06.94zm-11 1L8.5 8.5l.94-2.06 2.06-.94-2.06-.94L8.5 2.5l-.94 2.06-2.06.94zm10 10l.94 2.06.94-2.06 2.06-.94-2.06-.94-.94-2.06-.94 2.06-2.06.94z\"/><path d=\"M17.41 7.96l-1.37-1.37c-.4-.4-.92-.59-1.43-.59-.52 0-1.04.2-1.43.59L10.3 9.45l-7.72 7.72c-.78.78-.78 2.05 0 2.83L4 21.41c.39.39.9.59 1.41.59.51 0 1.02-.2 1.41-.59l7.78-7.78 2.81-2.81c.8-.78.8-2.07 0-2.86zM5.41 20L4 18.59l7.72-7.72 1.47 1.35L5.41 20z\"/>\n",
              "  </svg>\n",
              "      </button>\n",
              "      \n",
              "  <style>\n",
              "    .colab-df-container {\n",
              "      display:flex;\n",
              "      flex-wrap:wrap;\n",
              "      gap: 12px;\n",
              "    }\n",
              "\n",
              "    .colab-df-convert {\n",
              "      background-color: #E8F0FE;\n",
              "      border: none;\n",
              "      border-radius: 50%;\n",
              "      cursor: pointer;\n",
              "      display: none;\n",
              "      fill: #1967D2;\n",
              "      height: 32px;\n",
              "      padding: 0 0 0 0;\n",
              "      width: 32px;\n",
              "    }\n",
              "\n",
              "    .colab-df-convert:hover {\n",
              "      background-color: #E2EBFA;\n",
              "      box-shadow: 0px 1px 2px rgba(60, 64, 67, 0.3), 0px 1px 3px 1px rgba(60, 64, 67, 0.15);\n",
              "      fill: #174EA6;\n",
              "    }\n",
              "\n",
              "    [theme=dark] .colab-df-convert {\n",
              "      background-color: #3B4455;\n",
              "      fill: #D2E3FC;\n",
              "    }\n",
              "\n",
              "    [theme=dark] .colab-df-convert:hover {\n",
              "      background-color: #434B5C;\n",
              "      box-shadow: 0px 1px 3px 1px rgba(0, 0, 0, 0.15);\n",
              "      filter: drop-shadow(0px 1px 2px rgba(0, 0, 0, 0.3));\n",
              "      fill: #FFFFFF;\n",
              "    }\n",
              "  </style>\n",
              "\n",
              "      <script>\n",
              "        const buttonEl =\n",
              "          document.querySelector('#df-12df90e6-87a7-419f-ba26-45fa87ea39da button.colab-df-convert');\n",
              "        buttonEl.style.display =\n",
              "          google.colab.kernel.accessAllowed ? 'block' : 'none';\n",
              "\n",
              "        async function convertToInteractive(key) {\n",
              "          const element = document.querySelector('#df-12df90e6-87a7-419f-ba26-45fa87ea39da');\n",
              "          const dataTable =\n",
              "            await google.colab.kernel.invokeFunction('convertToInteractive',\n",
              "                                                     [key], {});\n",
              "          if (!dataTable) return;\n",
              "\n",
              "          const docLinkHtml = 'Like what you see? Visit the ' +\n",
              "            '<a target=\"_blank\" href=https://colab.research.google.com/notebooks/data_table.ipynb>data table notebook</a>'\n",
              "            + ' to learn more about interactive tables.';\n",
              "          element.innerHTML = '';\n",
              "          dataTable['output_type'] = 'display_data';\n",
              "          await google.colab.output.renderOutput(dataTable, element);\n",
              "          const docLink = document.createElement('div');\n",
              "          docLink.innerHTML = docLinkHtml;\n",
              "          element.appendChild(docLink);\n",
              "        }\n",
              "      </script>\n",
              "    </div>\n",
              "  </div>\n",
              "  "
            ]
          },
          "metadata": {},
          "execution_count": 13
        }
      ]
    },
    {
      "cell_type": "code",
      "source": [
        "df.info()"
      ],
      "metadata": {
        "colab": {
          "base_uri": "https://localhost:8080/"
        },
        "id": "TDM3dOGPeqhK",
        "outputId": "f076e346-bd2e-43ff-e3c9-b0472c776df5"
      },
      "execution_count": 14,
      "outputs": [
        {
          "output_type": "stream",
          "name": "stdout",
          "text": [
            "<class 'pandas.core.frame.DataFrame'>\n",
            "RangeIndex: 150 entries, 0 to 149\n",
            "Data columns (total 5 columns):\n",
            " #   Column             Non-Null Count  Dtype  \n",
            "---  ------             --------------  -----  \n",
            " 0   sepal length (cm)  150 non-null    float64\n",
            " 1   sepal width (cm)   150 non-null    float64\n",
            " 2   petal length (cm)  150 non-null    float64\n",
            " 3   petal width (cm)   150 non-null    float64\n",
            " 4   Class              150 non-null    float64\n",
            "dtypes: float64(5)\n",
            "memory usage: 6.0 KB\n"
          ]
        }
      ]
    },
    {
      "cell_type": "code",
      "source": [
        "print('Class  Number of Data Instances')\n",
        "print(df['Class'].value_counts())"
      ],
      "metadata": {
        "colab": {
          "base_uri": "https://localhost:8080/"
        },
        "id": "dtrsbbhnfHwK",
        "outputId": "8ab938c2-c842-4135-95b7-704819f29f9c"
      },
      "execution_count": 15,
      "outputs": [
        {
          "output_type": "stream",
          "name": "stdout",
          "text": [
            "Class  Number of Data Instances\n",
            "0.0    50\n",
            "1.0    50\n",
            "2.0    50\n",
            "Name: Class, dtype: int64\n"
          ]
        }
      ]
    },
    {
      "cell_type": "code",
      "source": [
        "#splitting Iris dataset into training and testing\n",
        "from sklearn.model_selection import train_test_split\n",
        "X_train, X_test,y_train, y_test = train_test_split(x,y,random_state=42,test_size=0.20,shuffle=True)"
      ],
      "metadata": {
        "id": "GzJx91r-FSts"
      },
      "execution_count": 16,
      "outputs": []
    },
    {
      "cell_type": "code",
      "source": [
        "X_train.shape"
      ],
      "metadata": {
        "colab": {
          "base_uri": "https://localhost:8080/"
        },
        "id": "pOBR0TDgR6GU",
        "outputId": "fed4772a-cc3a-4b6b-e7b2-5f587790cd50"
      },
      "execution_count": 17,
      "outputs": [
        {
          "output_type": "execute_result",
          "data": {
            "text/plain": [
              "(120, 4)"
            ]
          },
          "metadata": {},
          "execution_count": 17
        }
      ]
    },
    {
      "cell_type": "code",
      "source": [
        "print('Number of Data Instances used in Training:')\n",
        "print('\\n')\n",
        "unique, frequency = np.unique(y_train,return_counts = True)\n",
        "count = np.asarray((unique,frequency )).T\n",
        "print(pd.DataFrame(data=count,columns=['Class','Number of Data instances']))\n",
        "print('\\n')\n",
        "print('\\n')\n",
        "print('Number of Data Instances used in Testing:')\n",
        "print('\\n')\n",
        "unique, frequency = np.unique(y_test,return_counts = True)\n",
        "count = np.asarray((unique,frequency )).T\n",
        "print(pd.DataFrame(data=count,columns=['Class','Number of Data instances']))\n",
        "\n",
        "\n",
        "\n"
      ],
      "metadata": {
        "colab": {
          "base_uri": "https://localhost:8080/"
        },
        "id": "UF-WJx5KGGwG",
        "outputId": "c9e02dfa-05c7-4474-d2e7-6b6a57cc8e37"
      },
      "execution_count": 18,
      "outputs": [
        {
          "output_type": "stream",
          "name": "stdout",
          "text": [
            "Number of Data Instances used in Training:\n",
            "\n",
            "\n",
            "   Class  Number of Data instances\n",
            "0      0                        40\n",
            "1      1                        41\n",
            "2      2                        39\n",
            "\n",
            "\n",
            "\n",
            "\n",
            "Number of Data Instances used in Testing:\n",
            "\n",
            "\n",
            "   Class  Number of Data instances\n",
            "0      0                        10\n",
            "1      1                         9\n",
            "2      2                        11\n"
          ]
        }
      ]
    },
    {
      "cell_type": "code",
      "source": [
        "data=np.c_[X_train, y_train]\n",
        "print(data.shape)"
      ],
      "metadata": {
        "colab": {
          "base_uri": "https://localhost:8080/"
        },
        "id": "g_2Qx8Ng2_WZ",
        "outputId": "ba3b28fd-fee7-4291-af0d-7cfcbf0402c0"
      },
      "execution_count": 19,
      "outputs": [
        {
          "output_type": "stream",
          "name": "stdout",
          "text": [
            "(120, 5)\n"
          ]
        }
      ]
    },
    {
      "cell_type": "code",
      "source": [
        "def euclidean_dist(x1,x2):\n",
        "  distance=0.0\n",
        "  for i in range(len(x1)-1):\n",
        "    distance+=(x1[i]-x2[i])**2\n",
        "\n",
        "  return sqrt(distance)\n"
      ],
      "metadata": {
        "id": "CBK1D9otfnW0"
      },
      "execution_count": 20,
      "outputs": []
    },
    {
      "cell_type": "code",
      "source": [
        "def nearest_neighbours(train,test_row,k):\n",
        "  distances=[]\n",
        "  for train_row in train:\n",
        "    dist=euclidean_dist(train_row,test_row)\n",
        "    distances.append((train_row,dist))\n",
        "  distances.sort(key=lambda x: x[1])\n",
        "  neighbours=[]\n",
        "  for i in range(k):\n",
        "    neighbours.append(distances[i][0])\n",
        "  return neighbours\n"
      ],
      "metadata": {
        "id": "Y_S2Sp9_CusV"
      },
      "execution_count": 21,
      "outputs": []
    },
    {
      "cell_type": "code",
      "source": [
        "def classificationPrediction(train_data,test,num_neighbours):\n",
        "  predictions=[]\n",
        "  \n",
        "  for test_row in test:\n",
        "    neighbours=nearest_neighbours(train_data,test_row,num_neighbours)\n",
        "    output_values=[row[-1] for row in neighbours]\n",
        "    prediction=max(set(output_values),key=output_values.count)\n",
        "    predictions.append(prediction)\n",
        "          \n",
        "  return predictions\n",
        "  "
      ],
      "metadata": {
        "id": "qxMW90tUEcz-"
      },
      "execution_count": 22,
      "outputs": []
    },
    {
      "cell_type": "code",
      "source": [
        "kf=KFold(n_splits=3,shuffle=True)\n",
        "f1_tot=[]\n",
        "score=[]\n",
        "for k in range(1,26):\n",
        "  \n",
        "  for train_index, val_index in kf.split(data):\n",
        "\n",
        "    train_data,val_data = data[train_index], data[val_index]\n",
        "    val_true=val_data[:,-1]\n",
        "    val_true=val_true.squeeze()\n",
        "    val_data= np.delete(val_data, -1, axis=1)\n",
        "\n",
        "    predictions=np.array(classificationPrediction(train_data,val_data,k))\n",
        "    \n",
        "    score=np.append(score,f1_score(val_true,predictions,average='macro'))\n",
        "\n",
        "  f1=np.mean(score)\n",
        "  score=np.delete(score,[0,1,2])\n",
        "  f1_tot.append(f1)\n",
        "\n",
        "\n",
        "  \n",
        "    \n",
        "\n",
        "    \n",
        "    \n",
        "\n",
        "  \n",
        "  \n",
        "  "
      ],
      "metadata": {
        "id": "cGOEpi-qHSYV"
      },
      "execution_count": 24,
      "outputs": []
    },
    {
      "cell_type": "code",
      "source": [
        "f1_tot"
      ],
      "metadata": {
        "id": "8j7_ThuOZtDt"
      },
      "execution_count": null,
      "outputs": []
    },
    {
      "cell_type": "code",
      "source": [
        "\n",
        "x = range(1,26)\n",
        "\n",
        "y = f1_tot\n",
        "  \n",
        "\n",
        "plt.plot(x, y)\n",
        "  \n",
        "# naming the x axis\n",
        "plt.xlabel('K value')\n",
        "# naming the y axis\n",
        "plt.ylabel('Average Macro f1-score')\n",
        "  \n",
        "plt.show()"
      ],
      "metadata": {
        "colab": {
          "base_uri": "https://localhost:8080/",
          "height": 279
        },
        "id": "fTJvFjSdaSmO",
        "outputId": "c51f67d9-2c43-48a8-d8a6-2857c9220e5c"
      },
      "execution_count": 30,
      "outputs": [
        {
          "output_type": "display_data",
          "data": {
            "text/plain": [
              "<Figure size 432x288 with 1 Axes>"
            ],
            "image/png": "[encoded data removed]"
          },
          "metadata": {
            "needs_background": "light"
          }
        }
      ]
    },
    {
      "cell_type": "code",
      "source": [
        "max_f1_value = max(f1_tot)\n",
        "index = f1_tot.index(max_f1_value)\n",
        "k_best=index+1\n",
        "\n",
        "data_test=np.c_[X_test, y_test]\n",
        "\n",
        "test_predictions=np.array(classificationPrediction(data,X_test,k_best))\n",
        "\n",
        "print(\"MODEL EVALUATION\")\n",
        "print(\"f1_score for testing: \",f1_score(y_test,test_predictions,average='macro'))\n",
        "print(\"Accuracy for testing: \",accuracy_score(y_test,test_predictions))\n",
        "print(\"Precision for testing: \",precision_score(y_test,test_predictions,average='macro'))\n",
        "print(\"Recall for testing: \",recall_score(y_test,test_predictions,average='macro'))\n",
        "\n",
        "\n"
      ],
      "metadata": {
        "colab": {
          "base_uri": "https://localhost:8080/"
        },
        "id": "7ZfoBpeudl69",
        "outputId": "c464e892-bce5-409f-ff3f-0995408a3322"
      },
      "execution_count": 43,
      "outputs": [
        {
          "output_type": "stream",
          "name": "stdout",
          "text": [
            "MODEL EVALUATION\n",
            "f1_score for testing:  1.0\n",
            "Accuracy for testing:  1.0\n",
            "Precision for testing:  1.0\n",
            "Recall for testing:  1.0\n"
          ]
        }
      ]
    }
  ]
}